{
 "cells": [
  {
   "cell_type": "code",
   "execution_count": 1,
   "metadata": {},
   "outputs": [
    {
     "name": "stdout",
     "output_type": "stream",
     "text": [
      "Routing-topo-7-24-0-SP-k-5.txt\n",
      "l2_routing-topo-7-24-0.txt\n",
      "tg_per_path-topo-7-24-0.txt\n"
     ]
    }
   ],
   "source": [
    "import networkx\n",
    "import matplotlib.pyplot as plt\n",
    "from visualisation import visualize_sample\n",
    "\n",
    "unprepped_data = \"gnnet-ch23-dataset-cbr-mb\"\n",
    "# 0 bis 42xx\n",
    "sample_info = visualize_sample(2100, dataset = \"data\\\\\" + unprepped_data)\n",
    "\n",
    "\n",
    "# Infos about the sample, that are used for training\n",
    "sample = sample_info.Sample.iloc[0]\n",
    "# Graphs on layer 3 and layer 2\n",
    "L3g = sample_info.L3_graph.iloc[0]\n",
    "L2g = sample_info.L2_graph.iloc[0]\n",
    "\n",
    "# Routing on layer 3 and layer 3\n",
    "L3r = sample_info.L3_routing.iloc[0]\n",
    "L2r = sample_info.L2_routing.iloc[0]\n",
    "\n",
    "# Describes where the traffic comes from. Form <src> <dest> <traffic generator src> traffic generator dest>\n",
    "tg = sample_info.tg.iloc[0]\n",
    "\n",
    "# G2 = networkx.read_gml(\"data\\\\gnnet-ch23-dataset-cbr-mb\\\\graphs\\\\\" + L2g, destringizer=int)\n",
    "# G3 = networkx.read_gml(\"data\\\\gnnet-ch23-dataset-cbr-mb\\\\graphs\\\\\" + L3g, destringizer=int)\n",
    "\n",
    "G2 = networkx.read_gml(\"data\\\\\" + unprepped_data + \"\\\\graphs\\\\\" + L2g, destringizer=int)\n",
    "G3 = networkx.read_gml(\"data\\\\\" + unprepped_data + \"\\\\graphs\\\\\" + L3g, destringizer=int)\n",
    "\n",
    "for node2,node3 in zip(G2.nodes(data=True),G3.nodes(data=True)):\n",
    "    node2[1]['scheduling_policy']= node3[1][\"schedulingPolicy\"]\n",
    "\n",
    "print(L3r)\n",
    "print(L2r)\n",
    "print(tg)\n",
    "\n",
    "routes = []\n",
    "with open(\"data\\\\\" + unprepped_data + \"\\\\routings\\\\\" + L2r, 'r') as f:\n",
    "    for i,line in enumerate(f.readlines()):\n",
    "        if i%5 == 0:\n",
    "            routes.append(line.strip(\"\\n\").split(\" \"))\n",
    "        elif len(routes) > 2:\n",
    "            break\n",
    "\n",
    "\n",
    "for i, route in enumerate(routes):\n",
    "    for edge in G2.edges(data=True):\n",
    "        if edge[2][\"port\"] in route:\n",
    "            edge[2][\"used_for\"] = i+1\n",
    "\n",
    "for edge in G2.edges(data=True):\n",
    "    if \"used_for\" not in edge[2].keys():\n",
    "        edge[2][\"used_for\"] = 0"
   ]
  },
  {
   "cell_type": "code",
   "execution_count": 2,
   "metadata": {},
   "outputs": [
    {
     "data": {
      "application/vnd.jupyter.widget-view+json": {
       "model_id": "7f26cde3c37f4d8ca674845072fe0089",
       "version_major": 2,
       "version_minor": 0
      },
      "text/plain": [
       "GraphWidget(layout=Layout(height='630px', width='100%'))"
      ]
     },
     "metadata": {},
     "output_type": "display_data"
    }
   ],
   "source": [
    "from yfiles_jupyter_graphs import GraphWidget\n",
    "\n",
    "w = GraphWidget(graph = G2)\n",
    "\n",
    "\n",
    "def c_node_label_mapping(index, node):\n",
    "    properties = node.get('properties', {})\n",
    "    return str(properties.get(\"type\"))\n",
    "\n",
    "def c_color_mapping(index, node):\n",
    "    properties = node.get('properties', {})\n",
    "    router_type = str(properties.get(\"type\"))\n",
    "    color = {\"r\":\"red\",\n",
    "             \"s\":\"blue\",\n",
    "             \"tc\":\"green\",\n",
    "             \"ts\":\"grey\"}\n",
    "    return color[router_type]\n",
    "\n",
    "def custom_edge_color_mapping(edge):\n",
    "    is_used = edge[\"properties\"][\"used_for\"]\n",
    "    color = {0:\"#d3d3d3\",\n",
    "             1:\"red\",\n",
    "             2:\"#eb710e\",\n",
    "             3:\"#9aeb0e\"\n",
    "             }\n",
    "    \n",
    "    return color[is_used]\n",
    "\n",
    "\n",
    "w.set_edge_color_mapping(custom_edge_color_mapping)\n",
    "w.node_label_mapping = c_node_label_mapping\n",
    "w.node_color_mapping = c_color_mapping\n",
    "\n",
    "w.show()\n",
    "\n",
    "# Visualises the graph, with routers switches and traffic generators. Highlights 3 sample routings for the l2 layer"
   ]
  }
 ],
 "metadata": {
  "kernelspec": {
   "display_name": ".venv",
   "language": "python",
   "name": "python3"
  },
  "language_info": {
   "codemirror_mode": {
    "name": "ipython",
    "version": 3
   },
   "file_extension": ".py",
   "mimetype": "text/x-python",
   "name": "python",
   "nbconvert_exporter": "python",
   "pygments_lexer": "ipython3",
   "version": "3.10.11"
  }
 },
 "nbformat": 4,
 "nbformat_minor": 2
}
