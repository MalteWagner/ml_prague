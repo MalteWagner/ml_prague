{
 "cells": [
  {
   "cell_type": "code",
   "execution_count": 1,
   "metadata": {},
   "outputs": [],
   "source": [
    "import numpy as np\n",
    "import matplotlib.pyplot as plt\n",
    "import networkx as nx\n",
    "from os import listdir\n",
    "import tarfile\n",
    "import pandas as pd\n",
    "import tensorflow as tf\n",
    "\n",
    "\n",
    "\n",
    "ds = tf.data.Dataset.load(\"data\\\\part_test_prepped\", compression=\"GZIP\")\n",
    "\n",
    "# path = \"data\\gnnet-ch23-dataset-cbr-mb\"\n",
    "# delays  = []\n",
    "# infos   = []\n",
    "# for folder in listdir(path):\n",
    "#     if \"results\" in folder:\n",
    "#         tar = tarfile.open(path + \"\\\\\" + folder)\n",
    "#         for member in tar.getmembers():\n",
    "#             if \"experimentResults.txt\" in member.name:                        \n",
    "#                 f=tar.extractfile(member)\n",
    "#                 for line in f.readlines():\n",
    "#                     infos.append(line.decode('utf-8').split(\";\"))\n",
    "\n",
    "# print(len(infos[0][1]))\n",
    "                \n",
    "            \n",
    "\n",
    "\n"
   ]
  },
  {
   "cell_type": "code",
   "execution_count": 2,
   "metadata": {},
   "outputs": [
    {
     "name": "stdout",
     "output_type": "stream",
     "text": [
      "<_LoadDataset element_spec=({'path_to_link': RaggedTensorSpec(TensorShape([None, None, 2]), tf.int32, 1, tf.int64), 'sample_file_name': TensorSpec(shape=(None,), dtype=tf.string, name=None), 'flow_length': TensorSpec(shape=(None,), dtype=tf.int32, name=None), 'flow_packets': TensorSpec(shape=(None, 1), dtype=tf.float32, name=None), 'flow_traffic': TensorSpec(shape=(None, 1), dtype=tf.float32, name=None), 'flow_type': TensorSpec(shape=(None, 2), dtype=tf.float32, name=None), 'link_capacity': TensorSpec(shape=(None, 1), dtype=tf.float32, name=None), 'sample_file_id': TensorSpec(shape=(None,), dtype=tf.int32, name=None), 'flow_packet_size': TensorSpec(shape=(None, 1), dtype=tf.float32, name=None), 'flow_id': TensorSpec(shape=(None,), dtype=tf.string, name=None), 'link_to_path': RaggedTensorSpec(TensorShape([None, None]), tf.int32, 1, tf.int64)}, TensorSpec(shape=<unknown>, dtype=tf.float32, name=None))>\n"
     ]
    }
   ],
   "source": [
    "print(ds)"
   ]
  }
 ],
 "metadata": {
  "kernelspec": {
   "display_name": ".venv",
   "language": "python",
   "name": "python3"
  },
  "language_info": {
   "codemirror_mode": {
    "name": "ipython",
    "version": 3
   },
   "file_extension": ".py",
   "mimetype": "text/x-python",
   "name": "python",
   "nbconvert_exporter": "python",
   "pygments_lexer": "ipython3",
   "version": "3.10.11"
  }
 },
 "nbformat": 4,
 "nbformat_minor": 2
}
